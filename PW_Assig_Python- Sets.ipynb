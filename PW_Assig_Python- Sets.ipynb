{
 "cells": [
  {
   "cell_type": "markdown",
   "id": "f023ecba-9e1c-486a-9dd6-3b708b403c01",
   "metadata": {},
   "source": [
    "Q1. What is a set in Python?\n",
    "\n",
    "Ans:\n",
    "- A set in Python is an unordered collection of unique elements. It is a data structure that stores a collection of distinct items, where each item can occur only once in the set."
   ]
  },
  {
   "cell_type": "markdown",
   "id": "a15bac0e-fedd-4217-9107-00d8b693c620",
   "metadata": {},
   "source": [
    "Q2.How do you create a set in Python?\n",
    "\n",
    "Ans :\n",
    "- We can create a set in python using curly braces '{}' or the 'set()' constructor."
   ]
  },
  {
   "cell_type": "code",
   "execution_count": 3,
   "id": "d3f6451f-a4fb-4d8a-81a2-41091b11bcc7",
   "metadata": {},
   "outputs": [
    {
     "name": "stdout",
     "output_type": "stream",
     "text": [
      "<class 'set'>\n",
      "<class 'set'>\n"
     ]
    }
   ],
   "source": [
    "# using the curly braces:\n",
    "my_set = {1,2,3}\n",
    "print(type(my_set))\n",
    "# using set() constructor:\n",
    "my_set = set([1,2,3,4])\n",
    "print(type(my_set))"
   ]
  },
  {
   "cell_type": "markdown",
   "id": "00078c2f-c937-46d2-8e99-c6d8e760124e",
   "metadata": {},
   "source": [
    "Q3. How do you add elements to a set in Python?\n",
    "\n",
    "Ans: \n",
    "- To add elements to a set in python, you can use the 'add()' method or the 'update()' method."
   ]
  },
  {
   "cell_type": "code",
   "execution_count": 4,
   "id": "e8de5f4a-8e20-4889-bea2-658b0c0a7d47",
   "metadata": {},
   "outputs": [
    {
     "name": "stdout",
     "output_type": "stream",
     "text": [
      "{1, 2, 3, 4, 5}\n",
      "{1, 2, 3, 4, 5, 6, 7, 8}\n"
     ]
    }
   ],
   "source": [
    "# using add() method to add a single element\n",
    "my_set.add(5)\n",
    "print(my_set)\n",
    "# using update() method to add multiple elements\n",
    "my_set.update([6,7,8])\n",
    "print(my_set)"
   ]
  },
  {
   "cell_type": "markdown",
   "id": "20e24c8f-26f4-4d3d-a07c-6e23ce3cfb0e",
   "metadata": {},
   "source": [
    "Q4. How do you remove elements from a set in Python?\n",
    "\n",
    "Ans:\n",
    "- To remove elements from a set in python, we can use the 'remove()' method, the 'discard()' method, or 'pop()' method."
   ]
  },
  {
   "cell_type": "code",
   "execution_count": 5,
   "id": "1c7cdb4e-6f80-4035-a7d5-377b0e899d9c",
   "metadata": {},
   "outputs": [
    {
     "name": "stdout",
     "output_type": "stream",
     "text": [
      "{1, 2, 3, 5, 6, 7, 8}\n",
      "{1, 2, 3, 6, 7, 8}\n",
      "{2, 3, 6, 7, 8}\n"
     ]
    }
   ],
   "source": [
    "# Using remove() method to remove a specific element\n",
    "my_set.remove(4)\n",
    "print(my_set)\n",
    "\n",
    "# Using discard() method to remove a specific element (does not raise an error if the element is not present)\n",
    "my_set.discard(5)\n",
    "print(my_set)\n",
    "\n",
    "# Using pop() method to remove and return an arbitrary element from the set\n",
    "popped_element = my_set.pop()\n",
    "print(my_set)"
   ]
  },
  {
   "cell_type": "markdown",
   "id": "a4d1ead3-d5b5-4441-a5c3-5cfcb7b8c872",
   "metadata": {},
   "source": [
    "Q5. How do you get the length of a set in Python?\n",
    "\n",
    "Ans: \n",
    "- We can get the length of a set in Python using the built-in 'len()' function."
   ]
  },
  {
   "cell_type": "code",
   "execution_count": null,
   "id": "93302640-6458-42d1-b6bd-7082ff290d54",
   "metadata": {},
   "outputs": [],
   "source": [
    "# Get the length of the set \n",
    "set_length = len(my_set"
   ]
  }
 ],
 "metadata": {
  "kernelspec": {
   "display_name": "Python 3 (ipykernel)",
   "language": "python",
   "name": "python3"
  },
  "language_info": {
   "codemirror_mode": {
    "name": "ipython",
    "version": 3
   },
   "file_extension": ".py",
   "mimetype": "text/x-python",
   "name": "python",
   "nbconvert_exporter": "python",
   "pygments_lexer": "ipython3",
   "version": "3.10.8"
  }
 },
 "nbformat": 4,
 "nbformat_minor": 5
}
