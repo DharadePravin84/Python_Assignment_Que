{
 "cells": [
  {
   "cell_type": "markdown",
   "id": "06429882-b109-45ff-aa47-36aab86e58e2",
   "metadata": {},
   "source": [
    "Q1. How can we store a single quote (‘) as a string in a variable?\n",
    "\n",
    "Ans:\n",
    "- To store a single quote (')  as a string in variable, we can use either double quotes(\") or escappe the single quote with a backslash(\\). Here are examples of both methods:"
   ]
  },
  {
   "cell_type": "code",
   "execution_count": 8,
   "id": "53bc1ca6-a9c9-4b0d-84fb-d62115626c29",
   "metadata": {},
   "outputs": [
    {
     "name": "stdout",
     "output_type": "stream",
     "text": [
      " This is a single quote:'  \n",
      " This is a single quote: '\n"
     ]
    }
   ],
   "source": [
    "# using double quotes:\n",
    "my_variable = \" This is a single quote:'  \"\n",
    "print(my_variable)\n",
    "\n",
    "# Using escape character\n",
    "my_variable = ' This is a single quote: \\''\n",
    "print(my_variable)"
   ]
  },
  {
   "cell_type": "markdown",
   "id": "91cc096c-2ff0-4adc-a092-61f12dbd02c7",
   "metadata": {},
   "source": [
    "Q2.  Refer the below variable:\n",
    "x = 'a'\n",
    "Here, is x a character type or string type variable? Support your answer with an explanation.\n",
    "\n",
    "Ans:\n",
    "- In Python, there is no specific character type. \n",
    "- Characters are treated as strings of length 1. So, in the given variable 'x = 'a' ' , 'x' is a string type variable. It contains a single character 'a', which is represented as a string of length 1."
   ]
  },
  {
   "cell_type": "markdown",
   "id": "23990421-dcd2-4c2a-9ab1-7ff931d45ca2",
   "metadata": {},
   "source": [
    "Q3. Apply the following functions on this variable: ‘Welcome to Python foundation course'\n",
    "1. find()\n",
    "2.count()\n",
    "3. len()\n",
    "4. Concatenation\n",
    "Note: You can use your choice of parameters.  But make sure it is correct.\n"
   ]
  },
  {
   "cell_type": "code",
   "execution_count": 15,
   "id": "e0871667-ec3d-48b7-8530-ac298ebfcd79",
   "metadata": {},
   "outputs": [
    {
     "name": "stdout",
     "output_type": "stream",
     "text": [
      "11\n",
      "6\n",
      "35\n",
      "Welcome to Python foundation course - Learn and Grow\n"
     ]
    }
   ],
   "source": [
    "string ='Welcome to Python foundation course'\n",
    "\n",
    "# find \n",
    "print(string.find('Python'))\n",
    "\n",
    "# count()\n",
    "print(string.count('o'))\n",
    "\n",
    "# len()\n",
    "print(len(string))\n",
    "\n",
    "# Concatination (+)\n",
    "new_string = string + ' - Learn and Grow'\n",
    "print(new_string)"
   ]
  },
  {
   "cell_type": "markdown",
   "id": "35b839e1-f10b-4389-8bf3-0c43cd3399d3",
   "metadata": {},
   "source": [
    "Q4 For the variable: word = 'PanaJi@12256'\n",
    "Calculate the following:\n",
    "(a) Total number of alphabets in lowercase\n",
    "(b) Total number of alphabets in uppercase\n",
    "(c) Total number of numerical in string"
   ]
  },
  {
   "cell_type": "code",
   "execution_count": 20,
   "id": "a9537cfc-ed53-4456-8aa4-2f59b2c4d830",
   "metadata": {},
   "outputs": [
    {
     "name": "stdout",
     "output_type": "stream",
     "text": [
      "4\n",
      "2\n",
      "5\n"
     ]
    }
   ],
   "source": [
    "word = 'PanaJi@12256'\n",
    "\n",
    "# a- Total number of alphabets in lowercase:\n",
    "print(sum(1 for char in word if char.islower()))\n",
    "\n",
    "# b- Total number of alphabets in uppercase:\n",
    "print(sum(1 for char in word if char.isupper()))\n",
    "\n",
    "# c- Total number of numerical characters in the string:\n",
    "print(sum(1 for char in word if char.isdigit()))"
   ]
  },
  {
   "cell_type": "markdown",
   "id": "402b02d4-9d40-44a2-8dda-a3687fc364e5",
   "metadata": {},
   "source": [
    "Q5 Write a code to store a numerical value inside a variable then convert it into string."
   ]
  },
  {
   "cell_type": "code",
   "execution_count": null,
   "id": "ff4bdd16-f100-4c5f-96f1-2a90241817e4",
   "metadata": {},
   "outputs": [],
   "source": [
    "# Storing a numerical value in a variable \n",
    "num = 123\n",
    "\n",
    "# converting the numerical value to a string\n",
    "num_str = str(num"
   ]
  }
 ],
 "metadata": {
  "kernelspec": {
   "display_name": "Python 3 (ipykernel)",
   "language": "python",
   "name": "python3"
  },
  "language_info": {
   "codemirror_mode": {
    "name": "ipython",
    "version": 3
   },
   "file_extension": ".py",
   "mimetype": "text/x-python",
   "name": "python",
   "nbconvert_exporter": "python",
   "pygments_lexer": "ipython3",
   "version": "3.10.8"
  }
 },
 "nbformat": 4,
 "nbformat_minor": 5
}
