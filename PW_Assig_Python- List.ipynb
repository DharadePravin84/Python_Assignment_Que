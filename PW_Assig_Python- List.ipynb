{
 "cells": [
  {
   "cell_type": "markdown",
   "id": "ee413d86-1400-406f-91b4-32e29994f943",
   "metadata": {},
   "source": [
    "Q1. Create an empty list.\n"
   ]
  },
  {
   "cell_type": "code",
   "execution_count": 1,
   "id": "c91b85a3-1ba1-41f2-8610-b3e94984ffa5",
   "metadata": {},
   "outputs": [
    {
     "name": "stdout",
     "output_type": "stream",
     "text": [
      "[]\n"
     ]
    }
   ],
   "source": [
    "empty_list = []\n",
    "print(empty_list)"
   ]
  },
  {
   "cell_type": "markdown",
   "id": "e3f38d40-fdf5-4a5b-993b-5888add8d809",
   "metadata": {},
   "source": [
    "Q2. Create a list and add an element to the end of this list.\n"
   ]
  },
  {
   "cell_type": "code",
   "execution_count": 3,
   "id": "59d9a2dc-61c0-4903-8633-8514831b25d2",
   "metadata": {},
   "outputs": [
    {
     "name": "stdout",
     "output_type": "stream",
     "text": [
      "[1, 2, 3, 4]\n",
      "updated list : [1, 2, 3, 4, 5]\n"
     ]
    }
   ],
   "source": [
    "my_list = [1,2,3,4]\n",
    "print(my_list)\n",
    "my_list.append(5)\n",
    "print(\"updated list :\",my_list)"
   ]
  },
  {
   "cell_type": "markdown",
   "id": "e595380b-8154-48c6-8571-b1783f989717",
   "metadata": {},
   "source": [
    "Q3. For the above created list print the last element."
   ]
  },
  {
   "cell_type": "code",
   "execution_count": 4,
   "id": "3f078393-952b-4ec3-814e-1f80806a5523",
   "metadata": {},
   "outputs": [
    {
     "name": "stdout",
     "output_type": "stream",
     "text": [
      "5\n"
     ]
    }
   ],
   "source": [
    "print(my_list[-1])"
   ]
  },
  {
   "cell_type": "markdown",
   "id": "1d446c7d-fd27-4691-96d8-39b53a32c771",
   "metadata": {},
   "source": [
    "Q4. Reverse the above created list.\n"
   ]
  },
  {
   "cell_type": "code",
   "execution_count": 5,
   "id": "1170c19d-1a12-4343-8e0c-b6fcc8607db3",
   "metadata": {},
   "outputs": [
    {
     "name": "stdout",
     "output_type": "stream",
     "text": [
      "[5, 4, 3, 2, 1]\n"
     ]
    }
   ],
   "source": [
    "my_list.reverse()\n",
    "print(my_list)"
   ]
  },
  {
   "cell_type": "markdown",
   "id": "378d1388-c512-41a7-aeb6-b2d31434d27b",
   "metadata": {},
   "source": [
    "Q5. Sort the above created list.\n"
   ]
  },
  {
   "cell_type": "code",
   "execution_count": 6,
   "id": "710dbe96-0fd3-4bfb-9001-bbbcfa98a0af",
   "metadata": {},
   "outputs": [
    {
     "name": "stdout",
     "output_type": "stream",
     "text": [
      "[1, 2, 3, 4, 5]\n"
     ]
    }
   ],
   "source": [
    "my_list.sort()\n",
    "print(my_list)"
   ]
  },
  {
   "cell_type": "markdown",
   "id": "770bc7a3-7f86-439d-b8ab-ce37f19f14c3",
   "metadata": {},
   "source": [
    "Q6. Create a list of your top three favorite movies, then print the second movie title.\n"
   ]
  },
  {
   "cell_type": "code",
   "execution_count": 9,
   "id": "5ba2ac59-aaf5-49d7-85f0-d52de070d8d3",
   "metadata": {},
   "outputs": [
    {
     "name": "stdout",
     "output_type": "stream",
     "text": [
      "Tiger abhi zinda hai\n"
     ]
    }
   ],
   "source": [
    "favorite_movies = [\"Tiger\", \"Tiger abhi zinda hai\", \"Tiger-3\"]\n",
    "print(favorite_movies[1])"
   ]
  },
  {
   "cell_type": "markdown",
   "id": "2b7c3dc7-9b70-4e14-af0f-9c10abe6f9d0",
   "metadata": {},
   "source": [
    "Q7. Create a list of your favorite animals, then add a new animal to the list and print the updated list.\n"
   ]
  },
  {
   "cell_type": "code",
   "execution_count": 10,
   "id": "a5ad4134-3036-47cd-8827-c1b19e823e02",
   "metadata": {},
   "outputs": [
    {
     "name": "stdout",
     "output_type": "stream",
     "text": [
      "['Dog', 'Elephant', 'Lion', 'Tiger']\n"
     ]
    }
   ],
   "source": [
    "favorite_animals = [\"Dog\", \"Elephant\", \"Lion\"]\n",
    "favorite_animals.append(\"Tiger\")\n",
    "print(favorite_animals)"
   ]
  },
  {
   "cell_type": "markdown",
   "id": "e5d3eb8c-4982-4dae-a57a-80b116ec8a7e",
   "metadata": {},
   "source": [
    "Q8. Create a list of your favorite cities, then use the index() method to find the position of a specific city\n",
    "on the list and print it."
   ]
  },
  {
   "cell_type": "code",
   "execution_count": null,
   "id": "9488f944-9680-4803-a720-0125173a9709",
   "metadata": {},
   "outputs": [],
   "source": []
  }
 ],
 "metadata": {
  "kernelspec": {
   "display_name": "Python 3 (ipykernel)",
   "language": "python",
   "name": "python3"
  },
  "language_info": {
   "codemirror_mode": {
    "name": "ipython",
    "version": 3
   },
   "file_extension": ".py",
   "mimetype": "text/x-python",
   "name": "python",
   "nbconvert_exporter": "python",
   "pygments_lexer": "ipython3",
   "version": "3.10.8"
  }
 },
 "nbformat": 4,
 "nbformat_minor": 5
}
