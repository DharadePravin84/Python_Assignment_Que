{
 "cells": [
  {
   "cell_type": "markdown",
   "id": "ff39e2dc-cecb-460a-9ea3-f7b03b40ffbd",
   "metadata": {},
   "source": [
    "Q1. What is a tuple in Python?\n",
    "\n",
    "Ans:\n",
    "- A tuple in python is an ordered collection of elements, similar to a list, but immutable. Once a tuple is created, its elements cannot be changed or modified."
   ]
  },
  {
   "cell_type": "markdown",
   "id": "a34d59a6-ba59-4e1d-832a-948359062918",
   "metadata": {},
   "source": [
    "Q2. How do you create a tuple in Python?\n",
    "\n",
    "Ans:\n",
    "- We can create a tuple in Python by enclosing the elements within parentheses'()' .\n",
    ":"
   ]
  },
  {
   "cell_type": "code",
   "execution_count": 3,
   "id": "8075a0ab-cafa-4fec-93e2-c00b703c8785",
   "metadata": {},
   "outputs": [
    {
     "name": "stdout",
     "output_type": "stream",
     "text": [
      "<class 'tuple'>\n"
     ]
    }
   ],
   "source": [
    "my_tuple = (1,2,3,4,5)\n",
    "print(type(my_tuple))"
   ]
  },
  {
   "cell_type": "markdown",
   "id": "4c01259c-0769-4fda-92b6-4bd07bea72cd",
   "metadata": {},
   "source": [
    "Q3. What is the difference between a tuple and a list in Python?\n",
    "\n",
    "Ans:\n",
    "\n",
    "The main differences between a tuple and a list in Python are:\n",
    "\n",
    "- Mutability: Tuples are immutable, meaning that their elements cannot be changed after creation, while lists are mutable and can be modified.\n",
    "\n",
    "- Syntax: Tuples are defined using parentheses (), while lists are defined using square brackets [].\n",
    "\n",
    "- Performance: Tuples are generally faster than lists for indexing and iteration because of their immutable nature.\n"
   ]
  },
  {
   "cell_type": "markdown",
   "id": "2ddafb3a-9e2a-46d3-be75-26b63bea58a2",
   "metadata": {},
   "source": [
    "Q4. Can a tuple be changed in Python?\n",
    "\n",
    "Ans:\n",
    "- No, a tuple cannot be changed in Python. Once a tuple is created, its elements cannot be modified, added, or removed."
   ]
  },
  {
   "cell_type": "markdown",
   "id": "72f2780b-a7c3-4bf0-8e62-2b141fe146e1",
   "metadata": {},
   "source": [
    "Q5. How do you access elements in a tuple?\n",
    "\n",
    "Ans:\n",
    "\n",
    "we can access elements in a tuple using indexing or slicing. Indexing starts from 0 for the first element, and negative indexing can be used to access elements from the end of the tuple.\n"
   ]
  },
  {
   "cell_type": "code",
   "execution_count": 6,
   "id": "4d80092c-1366-4ace-825e-bee08bc5ee1c",
   "metadata": {},
   "outputs": [
    {
     "name": "stdout",
     "output_type": "stream",
     "text": [
      "(1, 2, 3, 4, 5)\n",
      "1\n",
      "5\n"
     ]
    }
   ],
   "source": [
    "my_tuple = (1, 2, 3, 4, 5)\n",
    "first_element = my_tuple[0]\n",
    "last_element = my_tuple[-1]\n",
    "print(my_tuple)\n",
    "print(first_element)\n",
    "print(last_element)"
   ]
  },
  {
   "cell_type": "markdown",
   "id": "a4076c05-374f-425c-bc8f-dc2136a14151",
   "metadata": {},
   "source": [
    "Q6. How do you unpack a tuple in Python?\n",
    "\n",
    "Ans:\n",
    "\n",
    "- To unpack a tuple in Python, we can assign its elements to individual variables in a single line of code."
   ]
  },
  {
   "cell_type": "code",
   "execution_count": null,
   "id": "d2c7721c-f9ad-4350-b425-419db5559a1d",
   "metadata": {},
   "outputs": [],
   "source": [
    "my_tuple = (1, 2, 3)\n",
    "a, b, c = my_tuple\n",
    "print(my_tuple)\n",
    "print(a)\n",
    "print(b)\n",
    "print(c)"
   ]
  }
 ],
 "metadata": {
  "kernelspec": {
   "display_name": "Python 3 (ipykernel)",
   "language": "python",
   "name": "python3"
  },
  "language_info": {
   "codemirror_mode": {
    "name": "ipython",
    "version": 3
   },
   "file_extension": ".py",
   "mimetype": "text/x-python",
   "name": "python",
   "nbconvert_exporter": "python",
   "pygments_lexer": "ipython3",
   "version": "3.10.8"
  }
 },
 "nbformat": 4,
 "nbformat_minor": 5
}
