{
 "cells": [
  {
   "cell_type": "markdown",
   "id": "dd6da54c-7166-4df4-a212-4804a6fd9e01",
   "metadata": {},
   "source": [
    "Q1. What is the syntax for adding an element to a list in Python?\n",
    "\n",
    "Ans: \n",
    "- The syntax for adding an element to a list in python is using the 'append()' method or using list concatenation with the '+' operator."
   ]
  },
  {
   "cell_type": "code",
   "execution_count": 2,
   "id": "56396d5d-1fa9-49cb-828d-21692767fb4a",
   "metadata": {},
   "outputs": [
    {
     "name": "stdout",
     "output_type": "stream",
     "text": [
      "[1, 2, 3, 4]\n",
      "[1, 2, 3, 4, 5]\n"
     ]
    }
   ],
   "source": [
    "# using append() method\n",
    "my_list = [1, 2, 3]\n",
    "my_list.append(4)\n",
    "print(my_list)\n",
    "\n",
    "#using list concatenation\n",
    "my_list = my_list + [5]\n",
    "print(my_list)"
   ]
  },
  {
   "cell_type": "markdown",
   "id": "187ea66f-38b3-44c4-a79a-377839ce8d2f",
   "metadata": {},
   "source": [
    "Q2. What is the difference between remove() and pop() functions in Python?\n",
    "\n",
    "Ans: \n",
    "- The main difference between the 'remove()' and 'pop' functions in python is:\n",
    "- 'remove()': The function removes the first occurrence of a specified value from the list.\n",
    "- 'pop()' : The function removes and returns the element at the specified index(or the last element if no index is specified)."
   ]
  },
  {
   "cell_type": "markdown",
   "id": "917a2822-d04b-4810-b6d4-1aa5c20e7e74",
   "metadata": {},
   "source": [
    "Q3. Write a Python code to sort a list in descending order.\n"
   ]
  },
  {
   "cell_type": "code",
   "execution_count": 3,
   "id": "bb946e2a-9cc1-45af-b92e-dbc3974ca86b",
   "metadata": {},
   "outputs": [
    {
     "name": "stdout",
     "output_type": "stream",
     "text": [
      "[4, 3, 2, 1]\n"
     ]
    }
   ],
   "source": [
    "my_list = [3, 1, 4, 2]\n",
    "my_list.sort(reverse=True)\n",
    "print(my_list)"
   ]
  },
  {
   "cell_type": "markdown",
   "id": "5c265bfc-aeaa-453e-8530-98bb9027f50b",
   "metadata": {},
   "source": [
    "Q4. Write a Python code to count the number of occurrences of an element in a list.\n"
   ]
  },
  {
   "cell_type": "code",
   "execution_count": 4,
   "id": "a61a4d32-751f-45bf-b7a4-f8ba72adb2a6",
   "metadata": {},
   "outputs": [
    {
     "name": "stdout",
     "output_type": "stream",
     "text": [
      "The number of occurrences of 2 in the list is : 4\n"
     ]
    }
   ],
   "source": [
    "my_list = [1,2,2,3,2,4,2]\n",
    "element = 2\n",
    "count = my_list.count(element)\n",
    "print(f\"The number of occurrences of {element} in the list is : {count}\")"
   ]
  },
  {
   "cell_type": "markdown",
   "id": "550bbf7f-39fa-4508-9cf6-40e12603fb35",
   "metadata": {},
   "source": [
    "Q5. Write a Python code to reverse a list."
   ]
  },
  {
   "cell_type": "code",
   "execution_count": null,
   "id": "9decce0b-a9c4-4fff-b2eb-0754a7e31212",
   "metadata": {},
   "outputs": [],
   "source": []
  }
 ],
 "metadata": {
  "kernelspec": {
   "display_name": "Python 3 (ipykernel)",
   "language": "python",
   "name": "python3"
  },
  "language_info": {
   "codemirror_mode": {
    "name": "ipython",
    "version": 3
   },
   "file_extension": ".py",
   "mimetype": "text/x-python",
   "name": "python",
   "nbconvert_exporter": "python",
   "pygments_lexer": "ipython3",
   "version": "3.10.8"
  }
 },
 "nbformat": 4,
 "nbformat_minor": 5
}
