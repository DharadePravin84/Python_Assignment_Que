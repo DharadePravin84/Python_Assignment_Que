{
 "cells": [
  {
   "cell_type": "markdown",
   "id": "7d35364a-b1b1-4ead-a92b-325461de4317",
   "metadata": {},
   "source": [
    "Q1. Write all the conventions being followed while declaring a variable.\n",
    "\n",
    "Ans:\n",
    "- Variable names should be descriptive and meaningful.\n",
    "- Variable names can contain letters (both uppercase and lowercase), digits, and underscores.\n",
    "- Variable names are cannot start with a digit.\n",
    "- Variable names are case-sensitive.\n",
    "- Variable names should follow the snake_case convention for readability.\n",
    "- Avoid using reserved keywords as variable names.\n",
    "- Use lowercase letters for variable names in most cases.\n",
    "- Constants should be named using all uppercase letters."
   ]
  },
  {
   "cell_type": "markdown",
   "id": "25a1be57-2c64-4bf3-9730-63c0c7137abd",
   "metadata": {},
   "source": [
    "Q2. What will happen if we declare a restricted keyword as a variable?\n",
    "\n",
    "Ans:\n",
    "- If we declare a restricted keyword as a variable, it will result in a syntax error. Python will raise a 'SyntaxError' because keywords are reserved for specific purposes and cannot be used as variable names."
   ]
  },
  {
   "cell_type": "markdown",
   "id": "f01467bc-c6b9-41d1-9f95-0e1170e8a2f5",
   "metadata": {},
   "source": [
    "Q3. Can we actually declare a string as a variable name?\n",
    "\n",
    "Ans:\n",
    "- Yes, we can declare a string as a variable name in Python. For example:"
   ]
  },
  {
   "cell_type": "code",
   "execution_count": 2,
   "id": "dcdfa5a9-0e74-4904-9d6f-db19a95d1a85",
   "metadata": {},
   "outputs": [
    {
     "name": "stdout",
     "output_type": "stream",
     "text": [
      "Hello\n"
     ]
    }
   ],
   "source": [
    "my_variable = \"Hello\"\n",
    "print(my_variable)"
   ]
  },
  {
   "cell_type": "markdown",
   "id": "fda063b0-4c38-413b-8d10-7781fab65b6a",
   "metadata": {},
   "source": [
    "Q4. Is it possible for us to declare “_” as a variable? If so, then write an example of it.\n",
    "\n",
    "Ans:\n",
    "- Yes, it is possible to declare \"_\" as a variable in Python. For example:"
   ]
  },
  {
   "cell_type": "code",
   "execution_count": 4,
   "id": "8a9ff22a-e225-4672-bb63-c646dac9e95b",
   "metadata": {},
   "outputs": [
    {
     "name": "stdout",
     "output_type": "stream",
     "text": [
      "underscore_variable\n"
     ]
    }
   ],
   "source": [
    "_ = \"underscore_variable\"\n",
    "print(_)"
   ]
  },
  {
   "cell_type": "markdown",
   "id": "9921a5f2-0593-4cfe-99ae-b6a04130d884",
   "metadata": {},
   "source": [
    "Q5. Using an example, explain how the variables in python are dynamic in nature.\n",
    " \n",
    "Ans:\n",
    "- Variables in Python are dynamic in nature, meaning that they can reference objects of any type and can be reassigned to different types. For Example"
   ]
  },
  {
   "cell_type": "code",
   "execution_count": null,
   "id": "88c6fac3-edd5-4f19-96dd-1f3726426297",
   "metadata": {},
   "outputs": [],
   "source": []
  }
 ],
 "metadata": {
  "kernelspec": {
   "display_name": "Python 3 (ipykernel)",
   "language": "python",
   "name": "python3"
  },
  "language_info": {
   "codemirror_mode": {
    "name": "ipython",
    "version": 3
   },
   "file_extension": ".py",
   "mimetype": "text/x-python",
   "name": "python",
   "nbconvert_exporter": "python",
   "pygments_lexer": "ipython3",
   "version": "3.10.8"
  }
 },
 "nbformat": 4,
 "nbformat_minor": 5
}
